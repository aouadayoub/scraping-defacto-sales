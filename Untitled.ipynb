{
 "cells": [
  {
   "cell_type": "code",
   "execution_count": 32,
   "id": "2d9a050e-1120-4a2a-8971-3eaa46bfea7a",
   "metadata": {},
   "outputs": [],
   "source": [
    "import requests \n",
    "import pandas as pd\n",
    "from bs4 import BeautifulSoup\n",
    "import time\n",
    "import csv"
   ]
  },
  {
   "cell_type": "code",
   "execution_count": 34,
   "id": "7e192f08-d8bf-459e-a5e7-5438129283d5",
   "metadata": {},
   "outputs": [],
   "source": [
    "url= \"https://www.defacto.com/fr-ma/black-friday-offers?filter=gender:man&amp;sortorder=3&amp;page={}\"\n",
    "Headers={'User-Agent':'Mozilla/5.0 (Windows NT 10.0; Win64; x64) AppleWebKit/537.36 (KHTML, like Gecko) Chrome/119.0.0.0 Safari/537.36',\n",
    "        'Accept-Language':'en-US,en;q=0.5'}\n",
    "base_url = \"https://www.defacto.com\"\n",
    "\n",
    "all_data=[]\n",
    "for page_number in range(1, 86):  \n",
    "    link = url.format(page_number)\n",
    "    response = requests.get(link,headers=Headers,allow_redirects=False)\n",
    "    soup = BeautifulSoup(response.content, 'html.parser')\n",
    "    items = soup.find_all('div', class_='product-card')\n",
    "    for item in items:\n",
    "        product_name = item.find('a', class_='product-card__title--name').text.strip()\n",
    "        product_price = item.find('div', class_='sale d-inline-flex align-items-baseline').text.strip()\n",
    "        product_discount= item.find('span',class_='percent mr-2').text.strip()\n",
    "        product_link = base_url + item.find('a', class_='product-card__title--name')['href']\n",
    "        item_data = {\n",
    "            'name': product_name,\n",
    "            'price': product_price,\n",
    "            'discount_rate' : product_discount,\n",
    "            'link': product_link\n",
    "            }\n",
    "        all_data.append(item_data)\n",
    "    time.sleep(5)"
   ]
  },
  {
   "cell_type": "code",
   "execution_count": 35,
   "metadata": {},
   "outputs": [
    {
     "name": "stdout",
     "output_type": "stream",
     "text": [
      "Data has been written to defacto_products_sale.csv\n"
     ]
    }
   ],
   "source": [
    "file_name = 'defacto_products_sale.csv'\n",
    "\n",
    "with open(file_name, mode='w', newline='', encoding='utf-8') as file:\n",
    "    fieldnames = ['name', 'price', 'discount_rate', 'link']\n",
    "    writer = csv.DictWriter(file, fieldnames=fieldnames)\n",
    "\n",
    "    writer.writeheader()\n",
    "    for item_data in all_data:\n",
    "        writer.writerow(item_data)\n",
    "\n",
    "print(f\"Data has been written to {file_name}\")"
   ]
  },
  {
   "cell_type": "code",
   "execution_count": 36,
   "metadata": {},
   "outputs": [
    {
     "name": "stdout",
     "output_type": "stream",
     "text": [
      "Data b df defacto_products.csv\n"
     ]
    }
   ],
   "source": [
    "df = pd.DataFrame(all_data)\n",
    "\n",
    "df.to_csv('defacto_products_pd.csv', index=False)\n",
    "\n",
    "print(\"Data b df defacto_products.csv\")\n"
   ]
  },
  {
   "cell_type": "code",
   "execution_count": null,
   "metadata": {},
   "outputs": [],
   "source": []
  }
 ],
 "metadata": {
  "kernelspec": {
   "display_name": "Python 3 (ipykernel)",
   "language": "python",
   "name": "python3"
  },
  "language_info": {
   "codemirror_mode": {
    "name": "ipython",
    "version": 3
   },
   "file_extension": ".py",
   "mimetype": "text/x-python",
   "name": "python",
   "nbconvert_exporter": "python",
   "pygments_lexer": "ipython3",
   "version": "3.11.5"
  }
 },
 "nbformat": 4,
 "nbformat_minor": 5
}
